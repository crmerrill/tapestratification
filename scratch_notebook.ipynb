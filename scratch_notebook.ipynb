{
 "cells": [
  {
   "cell_type": "code",
   "execution_count": 13,
   "id": "7646e43b",
   "metadata": {},
   "outputs": [],
   "source": [
    "import os \n",
    "import sys\n",
    "import numpy as np\n",
    "import pandas as pd\n",
    "import csv"
   ]
  },
  {
   "cell_type": "code",
   "execution_count": 2,
   "id": "0e4613a8",
   "metadata": {},
   "outputs": [],
   "source": [
    "requried_config_fields = {'FieldName': (str, None), \n",
    "                              'DataDesc': (str, ('categorical', 'numeric', 'date')), \n",
    "                              'DataCategory': (str, ('strs', 'floats', 'ints', 'dates', 'bools', 'arrays')), \n",
    "                              'DataType': (str, ('str', 'enum', 'datetime.date', 'np.int64', 'np.float64', 'bool')),\n",
    "                              'Description': (str, None), \n",
    "                              'PossibleValues': (str, None),\n",
    "                              'DefaultValue': (str, None), \n",
    "                              'StratFlag': (str, ('y', 'y(e)', 'n')), \n",
    "                              'StratType': (str, ('none', 'bucketfixed', 'bucketauto', 'uniquevalue', 'vintagem', 'vintageq', 'vintagea')), \n",
    "                              'GenericLoan': (bool, (True, False)), \n",
    "                              'GLRequired': (bool, (True, False)), \n",
    "                              'ConsumerLoan': (bool, (True, False)), \n",
    "                              'CLRequired': (bool, (True, False)),\n",
    "                              'ConsumerMortgage': (bool, (True, False)),\n",
    "                              'CMRequired': (bool, (True, False)),\n",
    "                              'ConsumerAuto': (bool, (True, False)),\n",
    "                              'CARequired': (bool, (True, False)),\n",
    "                              'ConsumerStudent': (bool, (True, False)),\n",
    "                              'CSRequired': (bool, (True, False)),\n",
    "                              'ConsumerCard': (bool, (True, False)),\n",
    "                              'CCRequired': (bool, (True, False)),\n",
    "                              'ConsumerUnsecured': (bool, (True, False)),\n",
    "                              'CURequired': (bool, (True, False)),\n",
    "                              'CommercialLoan': (bool, (True, False)), \n",
    "                              'Required': (bool, (True, False)), \n",
    "                              'CommercialMortgage': (bool, (True, False)), \n",
    "                              'ComMRequired': (bool, (True, False)), \n",
    "                              'CommercialAmortizing': (bool, (True, False)), \n",
    "                              'ComARequired': (bool, (True, False)),\t \n",
    "                              'CommercialBullet': (bool, (True, False)),\t\n",
    "                              'ComBRequired': (bool, (True, False)),\t\n",
    "                              'CommercialRevolver': (bool, (True, False)), \n",
    "                              'ComRRequired': (bool, (True, False)), \n",
    "                              'CommercialABL': (bool, (True, False)), \n",
    "                              'ComABLRequired': (bool, (True, False))}\n",
    "    "
   ]
  },
  {
   "cell_type": "code",
   "execution_count": 21,
   "id": "8dc9cc04",
   "metadata": {},
   "outputs": [],
   "source": [
    "testpath = '/Users/crmerrill/Developer/lib_python/tapestratification/test1datadict.csv'"
   ]
  },
  {
   "cell_type": "code",
   "execution_count": 45,
   "id": "0e3af0e6",
   "metadata": {},
   "outputs": [
    {
     "ename": "TypeError",
     "evalue": "object of type '_csv.reader' has no len()",
     "output_type": "error",
     "traceback": [
      "\u001b[0;31m---------------------------------------------------------------------------\u001b[0m",
      "\u001b[0;31mTypeError\u001b[0m                                 Traceback (most recent call last)",
      "Cell \u001b[0;32mIn[45], line 2\u001b[0m\n\u001b[1;32m      1\u001b[0m \u001b[38;5;28;01mwith\u001b[39;00m \u001b[38;5;28mopen\u001b[39m(testpath, \u001b[38;5;124m'\u001b[39m\u001b[38;5;124mr\u001b[39m\u001b[38;5;124m'\u001b[39m, newline\u001b[38;5;241m=\u001b[39m\u001b[38;5;124m'\u001b[39m\u001b[38;5;124m'\u001b[39m) \u001b[38;5;28;01mas\u001b[39;00m csvfile:\n\u001b[0;32m----> 2\u001b[0m     test \u001b[38;5;241m=\u001b[39m \u001b[38;5;28;43mlen\u001b[39;49m\u001b[43m(\u001b[49m\u001b[43mcsv\u001b[49m\u001b[38;5;241;43m.\u001b[39;49m\u001b[43mreader\u001b[49m\u001b[43m(\u001b[49m\u001b[43mcsvfile\u001b[49m\u001b[43m,\u001b[49m\u001b[43m \u001b[49m\u001b[43mdelimiter\u001b[49m\u001b[43m \u001b[49m\u001b[38;5;241;43m=\u001b[39;49m\u001b[43m \u001b[49m\u001b[38;5;124;43m'\u001b[39;49m\u001b[38;5;124;43m,\u001b[39;49m\u001b[38;5;124;43m'\u001b[39;49m\u001b[43m)\u001b[49m\u001b[43m)\u001b[49m\n\u001b[1;32m      3\u001b[0m     header \u001b[38;5;241m=\u001b[39m \u001b[38;5;28mnext\u001b[39m(csv\u001b[38;5;241m.\u001b[39mreader(csvfile, delimiter \u001b[38;5;241m=\u001b[39m \u001b[38;5;124m'\u001b[39m\u001b[38;5;124m,\u001b[39m\u001b[38;5;124m'\u001b[39m))\n\u001b[1;32m      4\u001b[0m     row \u001b[38;5;241m=\u001b[39m \u001b[38;5;28mnext\u001b[39m(csv\u001b[38;5;241m.\u001b[39mDictReader(csvfile, header, delimiter \u001b[38;5;241m=\u001b[39m \u001b[38;5;124m'\u001b[39m\u001b[38;5;124m,\u001b[39m\u001b[38;5;124m'\u001b[39m))\n",
      "\u001b[0;31mTypeError\u001b[0m: object of type '_csv.reader' has no len()"
     ]
    }
   ],
   "source": [
    "with open(testpath, 'r', newline='') as csvfile:\n",
    "    test = len(csv.reader(csvfile, delimiter = ','))\n",
    "    header = next(csv.reader(csvfile, delimiter = ','))\n",
    "    row = next(csv.DictReader(csvfile, header, delimiter = ','))"
   ]
  },
  {
   "cell_type": "code",
   "execution_count": 50,
   "id": "b3f2a6b5",
   "metadata": {},
   "outputs": [
    {
     "name": "stdout",
     "output_type": "stream",
     "text": [
      "1\n",
      "1\n",
      "1\n",
      "1\n",
      "1\n",
      "1\n",
      "1\n",
      "1\n",
      "1\n",
      "1\n",
      "1\n",
      "1\n",
      "1\n",
      "1\n",
      "1\n",
      "1\n",
      "1\n",
      "1\n",
      "1\n",
      "1\n"
     ]
    }
   ],
   "source": [
    "i = 1\n",
    "for j in range(10):\n",
    "    print(i)\n",
    "    ++i\n",
    "    print(i)"
   ]
  },
  {
   "cell_type": "code",
   "execution_count": 9,
   "id": "abc08399",
   "metadata": {},
   "outputs": [
    {
     "data": {
      "text/plain": [
       "['FieldName',\n",
       " 'DataDesc',\n",
       " 'DataCategory',\n",
       " 'DataType',\n",
       " 'Description',\n",
       " 'PossibleValues',\n",
       " 'DefaultValue',\n",
       " 'StratFlag',\n",
       " 'StratType',\n",
       " 'GenericLoan',\n",
       " 'Required',\n",
       " 'ConsumerLoan',\n",
       " 'ConsumerMortgage',\n",
       " 'ConsumerAuto',\n",
       " 'ConsumerStudent',\n",
       " 'ConsumerCard',\n",
       " 'ConsumerUnsecured',\n",
       " 'CommercialLoan',\n",
       " 'CommercialMortgage',\n",
       " 'CommercialAmortizing',\n",
       " 'CommercialBullet',\n",
       " 'CommercialRevolver',\n",
       " 'CommercialABL']"
      ]
     },
     "execution_count": 9,
     "metadata": {},
     "output_type": "execute_result"
    }
   ],
   "source": [
    "list(requried_config_fields.keys())"
   ]
  },
  {
   "cell_type": "code",
   "execution_count": 18,
   "id": "c499f812",
   "metadata": {},
   "outputs": [],
   "source": [
    "header = header [:-3]"
   ]
  },
  {
   "cell_type": "code",
   "execution_count": 20,
   "id": "771b933d",
   "metadata": {},
   "outputs": [
    {
     "data": {
      "text/plain": [
       "False"
      ]
     },
     "execution_count": 20,
     "metadata": {},
     "output_type": "execute_result"
    }
   ],
   "source": [
    "header == list(requried_config_fields.keys())"
   ]
  },
  {
   "cell_type": "code",
   "execution_count": 38,
   "id": "44840c67",
   "metadata": {},
   "outputs": [
    {
     "data": {
      "text/plain": [
       "str"
      ]
     },
     "execution_count": 38,
     "metadata": {},
     "output_type": "execute_result"
    }
   ],
   "source": [
    "requried_config_fields['FieldName'][0]"
   ]
  },
  {
   "cell_type": "code",
   "execution_count": 39,
   "id": "8282ba7a",
   "metadata": {},
   "outputs": [],
   "source": [
    "assert 'blue' == 'blue'"
   ]
  },
  {
   "cell_type": "code",
   "execution_count": 40,
   "id": "41eb59df",
   "metadata": {},
   "outputs": [
    {
     "ename": "AssertionError",
     "evalue": "",
     "output_type": "error",
     "traceback": [
      "\u001b[0;31m---------------------------------------------------------------------------\u001b[0m",
      "\u001b[0;31mAssertionError\u001b[0m                            Traceback (most recent call last)",
      "Cell \u001b[0;32mIn[40], line 1\u001b[0m\n\u001b[0;32m----> 1\u001b[0m \u001b[38;5;28;01massert\u001b[39;00m \u001b[38;5;124m'\u001b[39m\u001b[38;5;124mblue\u001b[39m\u001b[38;5;124m'\u001b[39m \u001b[38;5;241m==\u001b[39m \u001b[38;5;124m'\u001b[39m\u001b[38;5;124mred\u001b[39m\u001b[38;5;124m'\u001b[39m\n",
      "\u001b[0;31mAssertionError\u001b[0m: "
     ]
    }
   ],
   "source": [
    "assert 'blue' == 'red'"
   ]
  },
  {
   "cell_type": "code",
   "execution_count": 19,
   "id": "87d876f1",
   "metadata": {},
   "outputs": [],
   "source": [
    "def f(x):\n",
    "    try:\n",
    "        for i in range(x+1):\n",
    "            if i+1 !=10: \n",
    "                print(i, i+1)\n",
    "            else:\n",
    "                raise ValueError\n",
    "    except ValueError:\n",
    "        print(f'this is an error {i}.  You cant do {i+1} equal to 10')\n",
    "    finally:\n",
    "        for j in range(i+1,x+1):\n",
    "            print(j,j+2)"
   ]
  },
  {
   "cell_type": "code",
   "execution_count": 20,
   "id": "6f1535c0",
   "metadata": {},
   "outputs": [
    {
     "name": "stdout",
     "output_type": "stream",
     "text": [
      "0 1\n",
      "1 2\n",
      "2 3\n",
      "3 4\n",
      "4 5\n",
      "5 6\n",
      "6 7\n",
      "7 8\n",
      "8 9\n",
      "this is an error 9.  You cant do 10 equal to 10\n",
      "10 12\n",
      "11 13\n",
      "12 14\n",
      "13 15\n",
      "14 16\n",
      "15 17\n"
     ]
    }
   ],
   "source": [
    "f(15)"
   ]
  },
  {
   "cell_type": "code",
   "execution_count": 4,
   "id": "f82add45",
   "metadata": {},
   "outputs": [
    {
     "name": "stdout",
     "output_type": "stream",
     "text": [
      "this is an error 9.  You cant do 10 equal to 10\n"
     ]
    }
   ],
   "source": [
    "f(9)"
   ]
  },
  {
   "cell_type": "code",
   "execution_count": 13,
   "id": "b245ae07",
   "metadata": {},
   "outputs": [
    {
     "data": {
      "text/plain": [
       "range(2, 10)"
      ]
     },
     "execution_count": 13,
     "metadata": {},
     "output_type": "execute_result"
    }
   ],
   "source": [
    "range(2,10)"
   ]
  },
  {
   "cell_type": "code",
   "execution_count": 14,
   "id": "01b11891",
   "metadata": {},
   "outputs": [
    {
     "name": "stdout",
     "output_type": "stream",
     "text": [
      "2\n",
      "3\n",
      "4\n",
      "5\n",
      "6\n",
      "7\n",
      "8\n",
      "9\n"
     ]
    }
   ],
   "source": [
    "for i in range(2,10):\n",
    "    print(i)"
   ]
  },
  {
   "cell_type": "code",
   "execution_count": null,
   "id": "ba3d4d3b",
   "metadata": {},
   "outputs": [],
   "source": []
  }
 ],
 "metadata": {
  "kernelspec": {
   "display_name": "Python 3 (ipykernel)",
   "language": "python",
   "name": "python3"
  },
  "language_info": {
   "codemirror_mode": {
    "name": "ipython",
    "version": 3
   },
   "file_extension": ".py",
   "mimetype": "text/x-python",
   "name": "python",
   "nbconvert_exporter": "python",
   "pygments_lexer": "ipython3",
   "version": "3.11.3"
  }
 },
 "nbformat": 4,
 "nbformat_minor": 5
}
